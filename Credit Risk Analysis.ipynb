{
 "cells": [
  {
   "cell_type": "markdown",
   "id": "3125bb92",
   "metadata": {},
   "source": [
    "# Importing Libraries"
   ]
  },
  {
   "cell_type": "code",
   "execution_count": 2,
   "id": "c9e8bc63",
   "metadata": {},
   "outputs": [],
   "source": [
    "import numpy as np\n",
    "import pandas as pd\n",
    "import matplotlib.pyplot as plt\n",
    "%matplotlib inline\n",
    "import seaborn as sns"
   ]
  },
  {
   "cell_type": "code",
   "execution_count": 3,
   "id": "6debbea1",
   "metadata": {},
   "outputs": [],
   "source": [
    "#supressing warning messages\n",
    "import warnings\n",
    "warnings.filterwarnings('ignore')"
   ]
  },
  {
   "cell_type": "markdown",
   "id": "efa2516d",
   "metadata": {},
   "source": [
    "# Reading the data into Python"
   ]
  },
  {
   "cell_type": "code",
   "execution_count": 4,
   "id": "466d625c",
   "metadata": {},
   "outputs": [
    {
     "data": {
      "text/html": [
       "<div>\n",
       "<style scoped>\n",
       "    .dataframe tbody tr th:only-of-type {\n",
       "        vertical-align: middle;\n",
       "    }\n",
       "\n",
       "    .dataframe tbody tr th {\n",
       "        vertical-align: top;\n",
       "    }\n",
       "\n",
       "    .dataframe thead th {\n",
       "        text-align: right;\n",
       "    }\n",
       "</style>\n",
       "<table border=\"1\" class=\"dataframe\">\n",
       "  <thead>\n",
       "    <tr style=\"text-align: right;\">\n",
       "      <th></th>\n",
       "      <th>GoodCredit</th>\n",
       "      <th>checkingstatus</th>\n",
       "      <th>duration</th>\n",
       "      <th>history</th>\n",
       "      <th>purpose</th>\n",
       "      <th>amount</th>\n",
       "      <th>savings</th>\n",
       "      <th>employ</th>\n",
       "      <th>installment</th>\n",
       "      <th>status</th>\n",
       "      <th>...</th>\n",
       "      <th>residence</th>\n",
       "      <th>property</th>\n",
       "      <th>age</th>\n",
       "      <th>otherplans</th>\n",
       "      <th>housing</th>\n",
       "      <th>cards</th>\n",
       "      <th>job</th>\n",
       "      <th>liable</th>\n",
       "      <th>tele</th>\n",
       "      <th>foreign</th>\n",
       "    </tr>\n",
       "  </thead>\n",
       "  <tbody>\n",
       "    <tr>\n",
       "      <th>0</th>\n",
       "      <td>0</td>\n",
       "      <td>A11</td>\n",
       "      <td>6</td>\n",
       "      <td>A34</td>\n",
       "      <td>A43</td>\n",
       "      <td>1169</td>\n",
       "      <td>A65</td>\n",
       "      <td>A75</td>\n",
       "      <td>4</td>\n",
       "      <td>A93</td>\n",
       "      <td>...</td>\n",
       "      <td>4</td>\n",
       "      <td>A121</td>\n",
       "      <td>67</td>\n",
       "      <td>A143</td>\n",
       "      <td>A152</td>\n",
       "      <td>2</td>\n",
       "      <td>A173</td>\n",
       "      <td>1</td>\n",
       "      <td>A192</td>\n",
       "      <td>A201</td>\n",
       "    </tr>\n",
       "    <tr>\n",
       "      <th>1</th>\n",
       "      <td>1</td>\n",
       "      <td>A12</td>\n",
       "      <td>48</td>\n",
       "      <td>A32</td>\n",
       "      <td>A43</td>\n",
       "      <td>5951</td>\n",
       "      <td>A61</td>\n",
       "      <td>A73</td>\n",
       "      <td>2</td>\n",
       "      <td>A92</td>\n",
       "      <td>...</td>\n",
       "      <td>2</td>\n",
       "      <td>A121</td>\n",
       "      <td>22</td>\n",
       "      <td>A143</td>\n",
       "      <td>A152</td>\n",
       "      <td>1</td>\n",
       "      <td>A173</td>\n",
       "      <td>1</td>\n",
       "      <td>A191</td>\n",
       "      <td>A201</td>\n",
       "    </tr>\n",
       "    <tr>\n",
       "      <th>2</th>\n",
       "      <td>0</td>\n",
       "      <td>A14</td>\n",
       "      <td>12</td>\n",
       "      <td>A34</td>\n",
       "      <td>A46</td>\n",
       "      <td>2096</td>\n",
       "      <td>A61</td>\n",
       "      <td>A74</td>\n",
       "      <td>2</td>\n",
       "      <td>A93</td>\n",
       "      <td>...</td>\n",
       "      <td>3</td>\n",
       "      <td>A121</td>\n",
       "      <td>49</td>\n",
       "      <td>A143</td>\n",
       "      <td>A152</td>\n",
       "      <td>1</td>\n",
       "      <td>A172</td>\n",
       "      <td>2</td>\n",
       "      <td>A191</td>\n",
       "      <td>A201</td>\n",
       "    </tr>\n",
       "    <tr>\n",
       "      <th>3</th>\n",
       "      <td>0</td>\n",
       "      <td>A11</td>\n",
       "      <td>42</td>\n",
       "      <td>A32</td>\n",
       "      <td>A42</td>\n",
       "      <td>7882</td>\n",
       "      <td>A61</td>\n",
       "      <td>A74</td>\n",
       "      <td>2</td>\n",
       "      <td>A93</td>\n",
       "      <td>...</td>\n",
       "      <td>4</td>\n",
       "      <td>A122</td>\n",
       "      <td>45</td>\n",
       "      <td>A143</td>\n",
       "      <td>A153</td>\n",
       "      <td>1</td>\n",
       "      <td>A173</td>\n",
       "      <td>2</td>\n",
       "      <td>A191</td>\n",
       "      <td>A201</td>\n",
       "    </tr>\n",
       "    <tr>\n",
       "      <th>4</th>\n",
       "      <td>1</td>\n",
       "      <td>A11</td>\n",
       "      <td>24</td>\n",
       "      <td>A33</td>\n",
       "      <td>A40</td>\n",
       "      <td>4870</td>\n",
       "      <td>A61</td>\n",
       "      <td>A73</td>\n",
       "      <td>3</td>\n",
       "      <td>A93</td>\n",
       "      <td>...</td>\n",
       "      <td>4</td>\n",
       "      <td>A124</td>\n",
       "      <td>53</td>\n",
       "      <td>A143</td>\n",
       "      <td>A153</td>\n",
       "      <td>2</td>\n",
       "      <td>A173</td>\n",
       "      <td>2</td>\n",
       "      <td>A191</td>\n",
       "      <td>A201</td>\n",
       "    </tr>\n",
       "  </tbody>\n",
       "</table>\n",
       "<p>5 rows × 21 columns</p>\n",
       "</div>"
      ],
      "text/plain": [
       "   GoodCredit checkingstatus  duration history purpose  amount savings employ  \\\n",
       "0           0            A11         6     A34     A43    1169     A65    A75   \n",
       "1           1            A12        48     A32     A43    5951     A61    A73   \n",
       "2           0            A14        12     A34     A46    2096     A61    A74   \n",
       "3           0            A11        42     A32     A42    7882     A61    A74   \n",
       "4           1            A11        24     A33     A40    4870     A61    A73   \n",
       "\n",
       "   installment status  ... residence  property age  otherplans housing cards  \\\n",
       "0            4    A93  ...         4      A121  67        A143    A152     2   \n",
       "1            2    A92  ...         2      A121  22        A143    A152     1   \n",
       "2            2    A93  ...         3      A121  49        A143    A152     1   \n",
       "3            2    A93  ...         4      A122  45        A143    A153     1   \n",
       "4            3    A93  ...         4      A124  53        A143    A153     2   \n",
       "\n",
       "    job liable  tele foreign  \n",
       "0  A173      1  A192    A201  \n",
       "1  A173      1  A191    A201  \n",
       "2  A172      2  A191    A201  \n",
       "3  A173      2  A191    A201  \n",
       "4  A173      2  A191    A201  \n",
       "\n",
       "[5 rows x 21 columns]"
      ]
     },
     "execution_count": 4,
     "metadata": {},
     "output_type": "execute_result"
    }
   ],
   "source": [
    "CreditRisk=pd.read_csv(\"R:\\DS\\Ivy\\Python\\Python Datasets\\Classification Datasets\\creditRiskData.csv\")\n",
    "CreditRisk.head()"
   ]
  },
  {
   "cell_type": "code",
   "execution_count": 5,
   "id": "41970659",
   "metadata": {},
   "outputs": [
    {
     "name": "stdout",
     "output_type": "stream",
     "text": [
      "Shape of dataset: (1000, 21)\n",
      "Shape of dataset after removing duplicates: (1000, 21)\n"
     ]
    }
   ],
   "source": [
    "print('Shape of dataset:',CreditRisk.shape)\n",
    "CreditRisk=CreditRisk.drop_duplicates()\n",
    "print('Shape of dataset after removing duplicates:',CreditRisk.shape)"
   ]
  },
  {
   "cell_type": "markdown",
   "id": "8510df0c",
   "metadata": {},
   "source": [
    "*The data has no duplicate values*"
   ]
  },
  {
   "cell_type": "markdown",
   "id": "93fb599c",
   "metadata": {},
   "source": [
    "# Defining the Problem Statement\n",
    "\n",
    "**Target Variable:** GoodCredit\n",
    "\n",
    "# Determining the type of Machine Learning\n",
    "Based on the problem statement you can understand that we need to create a supervised ML classification model, as the target variable is categorical.\n",
    "\n",
    "# Looking at the distribution of Target variable\n",
    "* If target variable's distribution is too skewed then the predictive modeling will not be possible.\n",
    "* Bell curve is desirable but slightly positive skew or negative skew is also fine\n",
    "* When performing Classification, make sure there is a balance in the the distribution of each class otherwise it impacts the Machine Learning algorithms ability to learn all the classes"
   ]
  },
  {
   "cell_type": "code",
   "execution_count": 6,
   "id": "bffc772a",
   "metadata": {},
   "outputs": [
    {
     "data": {
      "text/plain": [
       "<AxesSubplot:xlabel='GoodCredit', ylabel='count'>"
      ]
     },
     "execution_count": 6,
     "metadata": {},
     "output_type": "execute_result"
    },
    {
     "data": {
      "image/png": "[encoded data removed]",
      "text/plain": [
       "<Figure size 432x288 with 1 Axes>"
      ]
     },
     "metadata": {
      "needs_background": "light"
     },
     "output_type": "display_data"
    }
   ],
   "source": [
    "sns.countplot(CreditRisk['GoodCredit'])"
   ]
  },
  {
   "cell_type": "markdown",
   "id": "384290f2",
   "metadata": {},
   "source": [
    "The data distribution of the target variable is satisfactory to proceed further. There are sufficient number of rows for each category to learn from."
   ]
  },
  {
   "cell_type": "markdown",
   "id": "e70794f6",
   "metadata": {},
   "source": [
    "# Basic Data Exploration\n",
    "This step is performed to guage the overall data. The volume of data, the types of columns present in the data. Initial assessment of the data should be done to identify which columns are Quantitative, Categorical or Qualitative."
   ]
  },
  {
   "cell_type": "code",
   "execution_count": 7,
   "id": "9ef128e7",
   "metadata": {},
   "outputs": [
    {
     "name": "stdout",
     "output_type": "stream",
     "text": [
      "<class 'pandas.core.frame.DataFrame'>\n",
      "Int64Index: 1000 entries, 0 to 999\n",
      "Data columns (total 21 columns):\n",
      " #   Column          Non-Null Count  Dtype \n",
      "---  ------          --------------  ----- \n",
      " 0   GoodCredit      1000 non-null   int64 \n",
      " 1   checkingstatus  1000 non-null   object\n",
      " 2   duration        1000 non-null   int64 \n",
      " 3   history         1000 non-null   object\n",
      " 4   purpose         1000 non-null   object\n",
      " 5   amount          1000 non-null   int64 \n",
      " 6   savings         1000 non-null   object\n",
      " 7   employ          1000 non-null   object\n",
      " 8   installment     1000 non-null   int64 \n",
      " 9   status          1000 non-null   object\n",
      " 10  others          1000 non-null   object\n",
      " 11  residence       1000 non-null   int64 \n",
      " 12  property        1000 non-null   object\n",
      " 13  age             1000 non-null   int64 \n",
      " 14  otherplans      1000 non-null   object\n",
      " 15  housing         1000 non-null   object\n",
      " 16  cards           1000 non-null   int64 \n",
      " 17  job             1000 non-null   object\n",
      " 18  liable          1000 non-null   int64 \n",
      " 19  tele            1000 non-null   object\n",
      " 20  foreign         1000 non-null   object\n",
      "dtypes: int64(8), object(13)\n",
      "memory usage: 204.2+ KB\n"
     ]
    }
   ],
   "source": [
    "CreditRisk.info()"
   ]
  },
  {
   "cell_type": "code",
   "execution_count": 8,
   "id": "0b869d92",
   "metadata": {},
   "outputs": [
    {
     "data": {
      "text/plain": [
       "GoodCredit        0\n",
       "checkingstatus    0\n",
       "duration          0\n",
       "history           0\n",
       "purpose           0\n",
       "amount            0\n",
       "savings           0\n",
       "employ            0\n",
       "installment       0\n",
       "status            0\n",
       "others            0\n",
       "residence         0\n",
       "property          0\n",
       "age               0\n",
       "otherplans        0\n",
       "housing           0\n",
       "cards             0\n",
       "job               0\n",
       "liable            0\n",
       "tele              0\n",
       "foreign           0\n",
       "dtype: int64"
      ]
     },
     "execution_count": 8,
     "metadata": {},
     "output_type": "execute_result"
    }
   ],
   "source": [
    "CreditRisk.isnull().sum()"
   ]
  },
  {
   "cell_type": "code",
   "execution_count": 9,
   "id": "3044132a",
   "metadata": {},
   "outputs": [
    {
     "data": {
      "text/html": [
       "<div>\n",
       "<style scoped>\n",
       "    .dataframe tbody tr th:only-of-type {\n",
       "        vertical-align: middle;\n",
       "    }\n",
       "\n",
       "    .dataframe tbody tr th {\n",
       "        vertical-align: top;\n",
       "    }\n",
       "\n",
       "    .dataframe thead th {\n",
       "        text-align: right;\n",
       "    }\n",
       "</style>\n",
       "<table border=\"1\" class=\"dataframe\">\n",
       "  <thead>\n",
       "    <tr style=\"text-align: right;\">\n",
       "      <th></th>\n",
       "      <th>GoodCredit</th>\n",
       "      <th>duration</th>\n",
       "      <th>amount</th>\n",
       "      <th>installment</th>\n",
       "      <th>residence</th>\n",
       "      <th>age</th>\n",
       "      <th>cards</th>\n",
       "      <th>liable</th>\n",
       "    </tr>\n",
       "  </thead>\n",
       "  <tbody>\n",
       "    <tr>\n",
       "      <th>count</th>\n",
       "      <td>1000.000000</td>\n",
       "      <td>1000.000000</td>\n",
       "      <td>1000.000000</td>\n",
       "      <td>1000.000000</td>\n",
       "      <td>1000.000000</td>\n",
       "      <td>1000.000000</td>\n",
       "      <td>1000.000000</td>\n",
       "      <td>1000.000000</td>\n",
       "    </tr>\n",
       "    <tr>\n",
       "      <th>mean</th>\n",
       "      <td>0.300000</td>\n",
       "      <td>20.903000</td>\n",
       "      <td>3271.258000</td>\n",
       "      <td>2.973000</td>\n",
       "      <td>2.845000</td>\n",
       "      <td>35.546000</td>\n",
       "      <td>1.407000</td>\n",
       "      <td>1.155000</td>\n",
       "    </tr>\n",
       "    <tr>\n",
       "      <th>std</th>\n",
       "      <td>0.458487</td>\n",
       "      <td>12.058814</td>\n",
       "      <td>2822.736876</td>\n",
       "      <td>1.118715</td>\n",
       "      <td>1.103718</td>\n",
       "      <td>11.375469</td>\n",
       "      <td>0.577654</td>\n",
       "      <td>0.362086</td>\n",
       "    </tr>\n",
       "    <tr>\n",
       "      <th>min</th>\n",
       "      <td>0.000000</td>\n",
       "      <td>4.000000</td>\n",
       "      <td>250.000000</td>\n",
       "      <td>1.000000</td>\n",
       "      <td>1.000000</td>\n",
       "      <td>19.000000</td>\n",
       "      <td>1.000000</td>\n",
       "      <td>1.000000</td>\n",
       "    </tr>\n",
       "    <tr>\n",
       "      <th>25%</th>\n",
       "      <td>0.000000</td>\n",
       "      <td>12.000000</td>\n",
       "      <td>1365.500000</td>\n",
       "      <td>2.000000</td>\n",
       "      <td>2.000000</td>\n",
       "      <td>27.000000</td>\n",
       "      <td>1.000000</td>\n",
       "      <td>1.000000</td>\n",
       "    </tr>\n",
       "    <tr>\n",
       "      <th>50%</th>\n",
       "      <td>0.000000</td>\n",
       "      <td>18.000000</td>\n",
       "      <td>2319.500000</td>\n",
       "      <td>3.000000</td>\n",
       "      <td>3.000000</td>\n",
       "      <td>33.000000</td>\n",
       "      <td>1.000000</td>\n",
       "      <td>1.000000</td>\n",
       "    </tr>\n",
       "    <tr>\n",
       "      <th>75%</th>\n",
       "      <td>1.000000</td>\n",
       "      <td>24.000000</td>\n",
       "      <td>3972.250000</td>\n",
       "      <td>4.000000</td>\n",
       "      <td>4.000000</td>\n",
       "      <td>42.000000</td>\n",
       "      <td>2.000000</td>\n",
       "      <td>1.000000</td>\n",
       "    </tr>\n",
       "    <tr>\n",
       "      <th>max</th>\n",
       "      <td>1.000000</td>\n",
       "      <td>72.000000</td>\n",
       "      <td>18424.000000</td>\n",
       "      <td>4.000000</td>\n",
       "      <td>4.000000</td>\n",
       "      <td>75.000000</td>\n",
       "      <td>4.000000</td>\n",
       "      <td>2.000000</td>\n",
       "    </tr>\n",
       "  </tbody>\n",
       "</table>\n",
       "</div>"
      ],
      "text/plain": [
       "        GoodCredit     duration        amount  installment    residence  \\\n",
       "count  1000.000000  1000.000000   1000.000000  1000.000000  1000.000000   \n",
       "mean      0.300000    20.903000   3271.258000     2.973000     2.845000   \n",
       "std       0.458487    12.058814   2822.736876     1.118715     1.103718   \n",
       "min       0.000000     4.000000    250.000000     1.000000     1.000000   \n",
       "25%       0.000000    12.000000   1365.500000     2.000000     2.000000   \n",
       "50%       0.000000    18.000000   2319.500000     3.000000     3.000000   \n",
       "75%       1.000000    24.000000   3972.250000     4.000000     4.000000   \n",
       "max       1.000000    72.000000  18424.000000     4.000000     4.000000   \n",
       "\n",
       "               age        cards       liable  \n",
       "count  1000.000000  1000.000000  1000.000000  \n",
       "mean     35.546000     1.407000     1.155000  \n",
       "std      11.375469     0.577654     0.362086  \n",
       "min      19.000000     1.000000     1.000000  \n",
       "25%      27.000000     1.000000     1.000000  \n",
       "50%      33.000000     1.000000     1.000000  \n",
       "75%      42.000000     2.000000     1.000000  \n",
       "max      75.000000     4.000000     2.000000  "
      ]
     },
     "execution_count": 9,
     "metadata": {},
     "output_type": "execute_result"
    }
   ],
   "source": [
    "CreditRisk.describe()"
   ]
  },
  {
   "cell_type": "code",
   "execution_count": 10,
   "id": "bd40e1c3",
   "metadata": {},
   "outputs": [
    {
     "data": {
      "text/plain": [
       "GoodCredit          2\n",
       "checkingstatus      4\n",
       "duration           33\n",
       "history             5\n",
       "purpose            10\n",
       "amount            921\n",
       "savings             5\n",
       "employ              5\n",
       "installment         4\n",
       "status              4\n",
       "others              3\n",
       "residence           4\n",
       "property            4\n",
       "age                53\n",
       "otherplans          3\n",
       "housing             3\n",
       "cards               4\n",
       "job                 4\n",
       "liable              2\n",
       "tele                2\n",
       "foreign             2\n",
       "dtype: int64"
      ]
     },
     "execution_count": 10,
     "metadata": {},
     "output_type": "execute_result"
    }
   ],
   "source": [
    "CreditRisk.nunique()"
   ]
  },
  {
   "cell_type": "markdown",
   "id": "b66bdb29",
   "metadata": {},
   "source": [
    "# Basic Data Exploration Results\n",
    "Based on the basic exploration above, you can now create a simple report of the data, noting down your \n",
    "observations regaring each column. Hence, creating a initial roadmap for further analysis. \n",
    "\n",
    "The selected columns in this step are not final, further study will be done and then a final list will be created\n",
    "\n",
    "* <b>GoodCredit</b>: Categorical. Selected. This is the <b>Target Variable!</b>\n",
    "* <b>Checkingstatus</b>: Categorical. Selected.\n",
    "* <b>duration</b>: Continuous. Selected.\n",
    "* <b>history</b>: Categorical. Selected.\n",
    "* <b>purpose</b>: Categorical. Selected.\n",
    "* <b>amount</b>: Continuous. Selected.\n",
    "* <b>savings</b>: Categorical. Selected.\n",
    "* <b>employ</b>: Categorical. Selected.\n",
    "* <b>installment</b>: Categorical. Selected.\n",
    "* <b>status</b>: Categorical. Selected.\n",
    "* <b>others</b>: Categorical. Selected.\n",
    "* <b>residence</b>: Categorical. Selected.\n",
    "* <b>property</b>: Categorical. Selected.\n",
    "* <b>age</b>: Continuous. Selected.\n",
    "* <b>other plans</b>: Categorical. Selected.\n",
    "* <b>housing</b>: Categorical. Selected.\n",
    "* <b>cards</b>: Categorical. Selected.\n",
    "* <b>job</b>: Categorical. Selected.\n",
    "* <b>liable</b>: Categorical. Selected.\n",
    "* <b>tele</b>: Categorical. Selected.\n",
    "* <b>foreign</b>: Categorical. Selected."
   ]
  },
  {
   "cell_type": "markdown",
   "id": "17260d91",
   "metadata": {},
   "source": [
    "# Visual Exploratory Data Analysis\n",
    "* Categorical variables: Bar plot\n",
    "* Continuous variables: Histogram\n",
    "\n",
    "### Visualize distribution of all the Categorical Predictor variables in the data using bar plots\n",
    "We can spot a categorical variable in the data by looking at the unique values in them. Typically a categorical variable contains less than 20 Unique values AND there is repetition of values, which means the data can be grouped by those unique values.\n",
    "\n",
    "Based on the Basic Data Exploration above, we have spotted five categorical predictors in the data\n",
    "\n",
    "Categorical Predictors: \n",
    "'Checkingstatus','history','purpose','savings','employ','installment','status','others','residence','property','other plans','housing','cards','job','liable','foreign'\n",
    "\n",
    "We use bar charts to see how the data is distributed for these categorical columns."
   ]
  },
  {
   "cell_type": "code",
   "execution_count": 11,
   "id": "dce0e41e",
   "metadata": {},
   "outputs": [],
   "source": [
    "#defining a function for plotting catergorical variables\n",
    "\n",
    "def Plot_CatCols(InpData,CatCols):\n",
    "    # Generating multiple subplots\n",
    "    fig,subplot=plt.subplots(nrows=1,ncols=len(CatCols),figsize=(25,7))\n",
    "    \n",
    "    for ColName,PlotNum in zip(CatCols,range(len(CatCols))):\n",
    "        sns.countplot(data=CreditRisk,x=ColName, ax=subplot[PlotNum])"
   ]
  },
  {
   "cell_type": "code",
   "execution_count": 12,
   "id": "3aaaa1d1",
   "metadata": {
    "scrolled": false
   },
   "outputs": [
    {
     "data": {
      "image/png": "[encoded data removed]",
      "text/plain": [
       "<Figure size 1800x504 with 17 Axes>"
      ]
     },
     "metadata": {
      "needs_background": "light"
     },
     "output_type": "display_data"
    }
   ],
   "source": [
    "CatCols=['checkingstatus','history','purpose','savings','employ','installment','status','others','residence','property','otherplans','housing','cards','job','liable','tele','foreign']\n",
    "\n",
    "Plot_CatCols(InpData=CreditRisk, CatCols=CatCols)"
   ]
  },
  {
   "cell_type": "code",
   "execution_count": 13,
   "id": "1819ca8e",
   "metadata": {},
   "outputs": [
    {
     "data": {
      "text/plain": [
       "array([[<AxesSubplot:title={'center':'duration'}>,\n",
       "        <AxesSubplot:title={'center':'amount'}>],\n",
       "       [<AxesSubplot:title={'center':'age'}>, <AxesSubplot:>]],\n",
       "      dtype=object)"
      ]
     },
     "execution_count": 13,
     "metadata": {},
     "output_type": "execute_result"
    },
    {
     "data": {
      "image/png": "[encoded data removed]",
      "text/plain": [
       "<Figure size 720x720 with 4 Axes>"
      ]
     },
     "metadata": {
      "needs_background": "light"
     },
     "output_type": "display_data"
    }
   ],
   "source": [
    "CreditRisk.hist(['duration','amount','age'],figsize=(10,10))"
   ]
  },
  {
   "cell_type": "markdown",
   "id": "79a17a1f",
   "metadata": {},
   "source": [
    "## Histogram Interpretation\n",
    "Histograms shows us the data distribution for a single continuous variable.\n",
    "\n",
    "The ideal outcome for histogram is a bell curve or slightly skewed bell curve. If there is too much skewness, then outlier treatment should be done and the column should be re-examined, if that also does not solve the problem then only reject the column."
   ]
  },
  {
   "cell_type": "markdown",
   "id": "bf1bb911",
   "metadata": {},
   "source": [
    "## Outlier Treatment\n",
    "\n",
    "Outliers are extreme values in the data which are far away from most of the values. You can see them as the tails in the histogram.\n",
    "\n",
    "Outlier must be treated one column at a time. As the treatment will be slightly different for each column.\n",
    "\n",
    "<b>Why I should treat the outliers?</b>\n",
    "\n",
    "Outliers bias the training of machine learning models. As the algorithm tries to fit the extreme value, it goes away from majority of the data.\n",
    "\n",
    "There are below two options to treat outliers in the data.\n",
    "\n",
    "* Option-1: Delete the outlier Records. Only if there are just few rows lost.\n",
    "* Option-2: Impute the outlier values with a logical business value\n",
    "\n",
    "The continuous variables are highly skewed, so outlier treatment is not required"
   ]
  },
  {
   "cell_type": "markdown",
   "id": "13fb9563",
   "metadata": {},
   "source": [
    "# Feature Selection\n",
    "Now its time to finally choose the best columns(Features) which are correlated to the Target variable.\n",
    "This can be done directly by measuring the correlation values or ANOVA/Chi-Square tests. However, it is always helpful to visualize the relation between the Target variable and each of the predictors to get a better sense of data.\n",
    "\n",
    "## Visual exploration of relationship between variables\n",
    "* Continuous Vs Continuous ---- Scatter Plot\n",
    "* Categorical Vs Continuous---- Box Plot\n",
    "* Categorical Vs Categorical---- Grouped Bar Plots\n",
    "\n",
    "## Statistical measurement of relationship strength between variables\n",
    "* Continuous Vs Continuous ---- Correlation matrix\n",
    "* Categorical Vs Continuous---- ANOVA test\n",
    "* Categorical Vs Categorical--- Chi-Square test\n",
    "\n",
    "In this case study the Target variable is categorical, hence below two scenarios will be present\n",
    "* Categorical Target Variable Vs Continuous Predictor\n",
    "* Categorical Target Variable Vs Categorical Predictor"
   ]
  },
  {
   "cell_type": "markdown",
   "id": "d3c0bc7a",
   "metadata": {},
   "source": [
    "# Relationship exploration: Categorical Vs Continuous -- Box Plots\n",
    "When the target variable is Categorical and the predictor variable is Continuous we analyze the relation using bar plots/Boxplots and measure the strength of relation using Anova test"
   ]
  },
  {
   "cell_type": "code",
   "execution_count": 14,
   "id": "887e8a01",
   "metadata": {},
   "outputs": [],
   "source": [
    "ContCols=['duration','amount','age']"
   ]
  },
  {
   "cell_type": "code",
   "execution_count": 15,
   "id": "a067a589",
   "metadata": {},
   "outputs": [
    {
     "data": {
      "image/png": "[encoded data removed]",
      "text/plain": [
       "<Figure size 720x504 with 3 Axes>"
      ]
     },
     "metadata": {
      "needs_background": "light"
     },
     "output_type": "display_data"
    }
   ],
   "source": [
    "fig,subplot=plt.subplots(nrows=1, ncols=len(ContCols),figsize=(10,7))\n",
    "\n",
    "for PredCol,PlotNum in zip(ContCols, range(len(ContCols))):\n",
    "    CreditRisk.boxplot(by='GoodCredit',column=PredCol,ax=subplot[PlotNum])"
   ]
  },
  {
   "cell_type": "markdown",
   "id": "6f188e70",
   "metadata": {},
   "source": [
    "# Box-Plots interpretation\n",
    "<b>What should you look for in these box plots? </b>\n",
    "\n",
    "These plots gives an idea about the data distribution of continuous predictor in the Y-axis for each of the category in the X-Axis.\n",
    "\n",
    "If the distribution looks similar for each category(Boxes are in the same line), that means the the continuous variable has NO effect on the target variable. Hence, the variables are not correlated to each other.\n",
    "\n",
    "On the other hand if the distribution is different for each category(the boxes are not in same line!). It hints that these variables might be correlated with Price."
   ]
  },
  {
   "cell_type": "markdown",
   "id": "6ddb9a07",
   "metadata": {},
   "source": [
    "# Statistical Feature Selection (Categorical Vs Continuous) using ANOVA test\n",
    "Analysis of variance(ANOVA) is performed to check if there is any relationship between the given continuous and categorical variable\n",
    "* Assumption(H0): There is NO relation between the given variables (i.e. The average(mean) values of the numeric Target variable is same for all the groups in the categorical Predictor variable)\n",
    "* ANOVA Test result: Probability of H0 being true"
   ]
  },
  {
   "cell_type": "code",
   "execution_count": 16,
   "id": "7a22dfe3",
   "metadata": {},
   "outputs": [],
   "source": [
    "from scipy.stats import f_oneway"
   ]
  },
  {
   "cell_type": "code",
   "execution_count": 17,
   "id": "6250b1ea",
   "metadata": {},
   "outputs": [],
   "source": [
    "def Func_Anova(InpData,TargetVariable,ContPred):\n",
    "    # Creating an empty list of final selected predictors\n",
    "    SelectedPreds=[]\n",
    "    \n",
    "    for pred in ContPred:\n",
    "        ContColList=InpData.groupby(TargetVariable)[pred].apply(list)\n",
    "        Anova=f_oneway(*ContColList) #unpacks the list\n",
    "        \n",
    "        # If the ANOVA P-Value is <0.05, that means we reject H0\n",
    "        if(Anova[1]<0.05):\n",
    "            print(pred,'is correlated with',TargetVariable,' | P-value:', Anova[1])\n",
    "            SelectedPreds.append(pred)\n",
    "        else:\n",
    "            print(pred,'is NOT correlated with',TargetVariable,' | P-value:', Anova[1])\n",
    "    return(SelectedPreds)"
   ]
  },
  {
   "cell_type": "code",
   "execution_count": 18,
   "id": "8495d0c1",
   "metadata": {
    "scrolled": false
   },
   "outputs": [
    {
     "name": "stdout",
     "output_type": "stream",
     "text": [
      "duration is correlated with GoodCredit  | P-value: 6.488049877187189e-12\n",
      "amount is correlated with GoodCredit  | P-value: 8.797572373533373e-07\n",
      "age is correlated with GoodCredit  | P-value: 0.003925339398278295\n"
     ]
    },
    {
     "data": {
      "text/plain": [
       "['duration', 'amount', 'age']"
      ]
     },
     "execution_count": 18,
     "metadata": {},
     "output_type": "execute_result"
    }
   ],
   "source": [
    "Func_Anova(InpData=CreditRisk,TargetVariable='GoodCredit',ContPred=ContCols)"
   ]
  },
  {
   "cell_type": "markdown",
   "id": "9c1a2d69",
   "metadata": {},
   "source": [
    "**Selected Columns:** ['duration', 'amount', 'age']"
   ]
  },
  {
   "cell_type": "markdown",
   "id": "96e4c783",
   "metadata": {},
   "source": [
    "# Relationship exploration: Categorical Vs Categorical -- Grouped Bar Charts\n",
    "When the target variable is Categorical and the predictor is also Categorical then we explore the correlation between them  visually using barplots and statistically using Chi-square test"
   ]
  },
  {
   "cell_type": "code",
   "execution_count": 19,
   "id": "56d07ac9",
   "metadata": {
    "scrolled": false
   },
   "outputs": [
    {
     "data": {
      "image/png": "[encoded data removed]",
      "text/plain": [
       "<Figure size 424.125x360 with 1 Axes>"
      ]
     },
     "metadata": {
      "needs_background": "light"
     },
     "output_type": "display_data"
    },
    {
     "data": {
      "image/png": "[encoded data removed]",
      "text/plain": [
       "<Figure size 424.125x360 with 1 Axes>"
      ]
     },
     "metadata": {
      "needs_background": "light"
     },
     "output_type": "display_data"
    },
    {
     "data": {
      "image/png": "[encoded data removed]",
      "text/plain": [
       "<Figure size 424.125x360 with 1 Axes>"
      ]
     },
     "metadata": {
      "needs_background": "light"
     },
     "output_type": "display_data"
    },
    {
     "data": {
      "image/png": "[encoded data removed]",
      "text/plain": [
       "<Figure size 424.125x360 with 1 Axes>"
      ]
     },
     "metadata": {
      "needs_background": "light"
     },
     "output_type": "display_data"
    },
    {
     "data": {
      "image/png": "[encoded data removed]",
      "text/plain": [
       "<Figure size 424.125x360 with 1 Axes>"
      ]
     },
     "metadata": {
      "needs_background": "light"
     },
     "output_type": "display_data"
    },
    {
     "data": {
      "image/png": "[encoded data removed]",
      "text/plain": [
       "<Figure size 424.125x360 with 1 Axes>"
      ]
     },
     "metadata": {
      "needs_background": "light"
     },
     "output_type": "display_data"
    },
    {
     "data": {
      "image/png": "[encoded data removed]",
      "text/plain": [
       "<Figure size 424.125x360 with 1 Axes>"
      ]
     },
     "metadata": {
      "needs_background": "light"
     },
     "output_type": "display_data"
    },
    {
     "data": {
      "image/png": "[encoded data removed]",
      "text/plain": [
       "<Figure size 424.125x360 with 1 Axes>"
      ]
     },
     "metadata": {
      "needs_background": "light"
     },
     "output_type": "display_data"
    },
    {
     "data": {
      "image/png": "[encoded data removed]",
      "text/plain": [
       "<Figure size 424.125x360 with 1 Axes>"
      ]
     },
     "metadata": {
      "needs_background": "light"
     },
     "output_type": "display_data"
    },
    {
     "data": {
      "image/png": "[encoded data removed]",
      "text/plain": [
       "<Figure size 424.125x360 with 1 Axes>"
      ]
     },
     "metadata": {
      "needs_background": "light"
     },
     "output_type": "display_data"
    },
    {
     "data": {
      "image/png": "[encoded data removed]",
      "text/plain": [
       "<Figure size 424.125x360 with 1 Axes>"
      ]
     },
     "metadata": {
      "needs_background": "light"
     },
     "output_type": "display_data"
    },
    {
     "data": {
      "image/png": "[encoded data removed]",
      "text/plain": [
       "<Figure size 424.125x360 with 1 Axes>"
      ]
     },
     "metadata": {
      "needs_background": "light"
     },
     "output_type": "display_data"
    },
    {
     "data": {
      "image/png": "[encoded data removed]",
      "text/plain": [
       "<Figure size 424.125x360 with 1 Axes>"
      ]
     },
     "metadata": {
      "needs_background": "light"
     },
     "output_type": "display_data"
    },
    {
     "data": {
      "image/png": "[encoded data removed]",
      "text/plain": [
       "<Figure size 424.125x360 with 1 Axes>"
      ]
     },
     "metadata": {
      "needs_background": "light"
     },
     "output_type": "display_data"
    },
    {
     "data": {
      "image/png": "[encoded data removed]",
      "text/plain": [
       "<Figure size 424.125x360 with 1 Axes>"
      ]
     },
     "metadata": {
      "needs_background": "light"
     },
     "output_type": "display_data"
    },
    {
     "data": {
      "image/png": "[encoded data removed]",
      "text/plain": [
       "<Figure size 424.125x360 with 1 Axes>"
      ]
     },
     "metadata": {
      "needs_background": "light"
     },
     "output_type": "display_data"
    },
    {
     "data": {
      "image/png": "[encoded data removed]",
      "text/plain": [
       "<Figure size 424.125x360 with 1 Axes>"
      ]
     },
     "metadata": {
      "needs_background": "light"
     },
     "output_type": "display_data"
    }
   ],
   "source": [
    "for pred,PlotNum in zip(CatCols, range(len(CatCols))):\n",
    "    sns.catplot(data=CreditRisk,x=pred,hue='GoodCredit',kind='count')"
   ]
  },
  {
   "cell_type": "markdown",
   "id": "9d79256e",
   "metadata": {},
   "source": [
    "# Grouped Bar charts Interpretation\n",
    "<b>What to look for in these grouped bar charts?</b>\n",
    "\n",
    "These grouped bar charts show the frequency in the Y-Axis and the category in the X-Axis. \n",
    "If the ratio of bars is similar across all categories, then the two columns are not correlated. \n",
    "\n",
    "We confirm this analysis in below section by using Chi-Square Tests.\n",
    "\n",
    "### Statistical Feature Selection (Categorical Vs Categorical) using Chi-Square Test\n",
    "\n",
    "Chi-Square test is conducted to check the correlation between two categorical variables\n",
    "\n",
    "* Assumption(H0): The two columns are NOT related to each other\n",
    "* Result of Chi-Sq Test: The Probability of H0 being True"
   ]
  },
  {
   "cell_type": "code",
   "execution_count": 20,
   "id": "402e74b5",
   "metadata": {},
   "outputs": [],
   "source": [
    "from scipy.stats import chi2_contingency"
   ]
  },
  {
   "cell_type": "code",
   "execution_count": 21,
   "id": "3991533f",
   "metadata": {},
   "outputs": [],
   "source": [
    "def FuncChi(InpData, TV,CatCols):\n",
    "  \n",
    "    # Creating an empty list of final selected predictors\n",
    "    SelectedPreds=[]\n",
    "    \n",
    "    for pred in CatCols:\n",
    "        CT=pd.crosstab(index=InpData[TV],columns=InpData[pred])\n",
    "        Chi2=chi2_contingency(CT)\n",
    "        \n",
    "        # If the ChiSq P-Value is <0.05, that means we reject H0\n",
    "        if (Chi2[1]<0.05):\n",
    "            print(pred, 'is correlated with', TV, ' | P-value:', Chi2[1])\n",
    "            SelectedPreds.append(pred)\n",
    "        else:\n",
    "            print(pred, 'is NOT correlated with', TV, ' | P-value:', Chi2[1])\n",
    "            \n",
    "    return(SelectedPreds)"
   ]
  },
  {
   "cell_type": "code",
   "execution_count": 22,
   "id": "7efdba46",
   "metadata": {},
   "outputs": [
    {
     "name": "stdout",
     "output_type": "stream",
     "text": [
      "checkingstatus is correlated with GoodCredit  | P-value: 1.2189020722893755e-26\n",
      "history is correlated with GoodCredit  | P-value: 1.2791872956751013e-12\n",
      "purpose is correlated with GoodCredit  | P-value: 0.00011574910079691586\n",
      "savings is correlated with GoodCredit  | P-value: 2.7612142385682596e-07\n",
      "employ is correlated with GoodCredit  | P-value: 0.001045452349140254\n",
      "installment is NOT correlated with GoodCredit  | P-value: 0.1400333122128481\n",
      "status is correlated with GoodCredit  | P-value: 0.02223800546926877\n",
      "others is correlated with GoodCredit  | P-value: 0.036055954027247226\n",
      "residence is NOT correlated with GoodCredit  | P-value: 0.8615521320413175\n",
      "property is correlated with GoodCredit  | P-value: 2.8584415733250017e-05\n",
      "otherplans is correlated with GoodCredit  | P-value: 0.0016293178186473534\n",
      "housing is correlated with GoodCredit  | P-value: 0.00011167465374597684\n",
      "cards is NOT correlated with GoodCredit  | P-value: 0.4451440800083001\n",
      "job is NOT correlated with GoodCredit  | P-value: 0.5965815918843431\n",
      "liable is NOT correlated with GoodCredit  | P-value: 1.0\n",
      "tele is NOT correlated with GoodCredit  | P-value: 0.27887615430357426\n",
      "foreign is correlated with GoodCredit  | P-value: 0.015830754902852885\n"
     ]
    },
    {
     "data": {
      "text/plain": [
       "['checkingstatus',\n",
       " 'history',\n",
       " 'purpose',\n",
       " 'savings',\n",
       " 'employ',\n",
       " 'status',\n",
       " 'others',\n",
       " 'property',\n",
       " 'otherplans',\n",
       " 'housing',\n",
       " 'foreign']"
      ]
     },
     "execution_count": 22,
     "metadata": {},
     "output_type": "execute_result"
    }
   ],
   "source": [
    "FuncChi(InpData=CreditRisk, TV='GoodCredit', CatCols=CatCols)"
   ]
  },
  {
   "cell_type": "markdown",
   "id": "c827132a",
   "metadata": {},
   "source": [
    "# Selecting final predictors for Machine Learning\n",
    "Based on the above tests, selecting the final columns for machine learning"
   ]
  },
  {
   "cell_type": "code",
   "execution_count": 59,
   "id": "f77076d9",
   "metadata": {},
   "outputs": [],
   "source": [
    "SelectedCols=['duration', 'amount', 'age',\n",
    "            'checkingstatus','history','purpose','savings','employ','status','others','property','otherplans',\n",
    "            'housing','foreign']"
   ]
  },
  {
   "cell_type": "code",
   "execution_count": 61,
   "id": "d5d54e1b",
   "metadata": {},
   "outputs": [
    {
     "data": {
      "text/html": [
       "<div>\n",
       "<style scoped>\n",
       "    .dataframe tbody tr th:only-of-type {\n",
       "        vertical-align: middle;\n",
       "    }\n",
       "\n",
       "    .dataframe tbody tr th {\n",
       "        vertical-align: top;\n",
       "    }\n",
       "\n",
       "    .dataframe thead th {\n",
       "        text-align: right;\n",
       "    }\n",
       "</style>\n",
       "<table border=\"1\" class=\"dataframe\">\n",
       "  <thead>\n",
       "    <tr style=\"text-align: right;\">\n",
       "      <th></th>\n",
       "      <th>duration</th>\n",
       "      <th>amount</th>\n",
       "      <th>age</th>\n",
       "      <th>checkingstatus</th>\n",
       "      <th>history</th>\n",
       "      <th>purpose</th>\n",
       "      <th>savings</th>\n",
       "      <th>employ</th>\n",
       "      <th>status</th>\n",
       "      <th>others</th>\n",
       "      <th>property</th>\n",
       "      <th>otherplans</th>\n",
       "      <th>housing</th>\n",
       "      <th>foreign</th>\n",
       "    </tr>\n",
       "  </thead>\n",
       "  <tbody>\n",
       "    <tr>\n",
       "      <th>0</th>\n",
       "      <td>6</td>\n",
       "      <td>1169</td>\n",
       "      <td>67</td>\n",
       "      <td>A11</td>\n",
       "      <td>A34</td>\n",
       "      <td>A43</td>\n",
       "      <td>A65</td>\n",
       "      <td>A75</td>\n",
       "      <td>A93</td>\n",
       "      <td>A101</td>\n",
       "      <td>A121</td>\n",
       "      <td>A143</td>\n",
       "      <td>A152</td>\n",
       "      <td>A201</td>\n",
       "    </tr>\n",
       "    <tr>\n",
       "      <th>1</th>\n",
       "      <td>48</td>\n",
       "      <td>5951</td>\n",
       "      <td>22</td>\n",
       "      <td>A12</td>\n",
       "      <td>A32</td>\n",
       "      <td>A43</td>\n",
       "      <td>A61</td>\n",
       "      <td>A73</td>\n",
       "      <td>A92</td>\n",
       "      <td>A101</td>\n",
       "      <td>A121</td>\n",
       "      <td>A143</td>\n",
       "      <td>A152</td>\n",
       "      <td>A201</td>\n",
       "    </tr>\n",
       "    <tr>\n",
       "      <th>2</th>\n",
       "      <td>12</td>\n",
       "      <td>2096</td>\n",
       "      <td>49</td>\n",
       "      <td>A14</td>\n",
       "      <td>A34</td>\n",
       "      <td>A46</td>\n",
       "      <td>A61</td>\n",
       "      <td>A74</td>\n",
       "      <td>A93</td>\n",
       "      <td>A101</td>\n",
       "      <td>A121</td>\n",
       "      <td>A143</td>\n",
       "      <td>A152</td>\n",
       "      <td>A201</td>\n",
       "    </tr>\n",
       "    <tr>\n",
       "      <th>3</th>\n",
       "      <td>42</td>\n",
       "      <td>7882</td>\n",
       "      <td>45</td>\n",
       "      <td>A11</td>\n",
       "      <td>A32</td>\n",
       "      <td>A42</td>\n",
       "      <td>A61</td>\n",
       "      <td>A74</td>\n",
       "      <td>A93</td>\n",
       "      <td>A103</td>\n",
       "      <td>A122</td>\n",
       "      <td>A143</td>\n",
       "      <td>A153</td>\n",
       "      <td>A201</td>\n",
       "    </tr>\n",
       "    <tr>\n",
       "      <th>4</th>\n",
       "      <td>24</td>\n",
       "      <td>4870</td>\n",
       "      <td>53</td>\n",
       "      <td>A11</td>\n",
       "      <td>A33</td>\n",
       "      <td>A40</td>\n",
       "      <td>A61</td>\n",
       "      <td>A73</td>\n",
       "      <td>A93</td>\n",
       "      <td>A101</td>\n",
       "      <td>A124</td>\n",
       "      <td>A143</td>\n",
       "      <td>A153</td>\n",
       "      <td>A201</td>\n",
       "    </tr>\n",
       "  </tbody>\n",
       "</table>\n",
       "</div>"
      ],
      "text/plain": [
       "   duration  amount  age checkingstatus history purpose savings employ status  \\\n",
       "0         6    1169   67            A11     A34     A43     A65    A75    A93   \n",
       "1        48    5951   22            A12     A32     A43     A61    A73    A92   \n",
       "2        12    2096   49            A14     A34     A46     A61    A74    A93   \n",
       "3        42    7882   45            A11     A32     A42     A61    A74    A93   \n",
       "4        24    4870   53            A11     A33     A40     A61    A73    A93   \n",
       "\n",
       "  others property otherplans housing foreign  \n",
       "0   A101     A121       A143    A152    A201  \n",
       "1   A101     A121       A143    A152    A201  \n",
       "2   A101     A121       A143    A152    A201  \n",
       "3   A103     A122       A143    A153    A201  \n",
       "4   A101     A124       A143    A153    A201  "
      ]
     },
     "execution_count": 61,
     "metadata": {},
     "output_type": "execute_result"
    }
   ],
   "source": [
    "# Selecting final columns\n",
    "final_df=CreditRisk[SelectedCols]\n",
    "final_df.head()"
   ]
  },
  {
   "cell_type": "markdown",
   "id": "ef219b7a",
   "metadata": {},
   "source": [
    "## Data Pre-processing for Machine Learning\n",
    "\n",
    "1. Converting each Ordinal Categorical columns to numeric\n",
    "2. Converting Binary nominal Categorical columns to numeric using 1/0 mapping\n",
    "3. Converting all other nominal categorical columns to numeric using pd.get_dummies()\n",
    "4. Data Transformation (Optional): Standardization/Normalization/log/sqrt. "
   ]
  },
  {
   "cell_type": "markdown",
   "id": "d737e749",
   "metadata": {},
   "source": [
    "Based on the information on the column values explanation from the data website\n",
    "\n",
    "https://archive.ics.uci.edu/ml/datasets/statlog+(german+credit+data)\n",
    "\n",
    "\"employ\" column has ordinal properties."
   ]
  },
  {
   "cell_type": "code",
   "execution_count": 62,
   "id": "9cad70c1",
   "metadata": {},
   "outputs": [
    {
     "data": {
      "text/html": [
       "<div>\n",
       "<style scoped>\n",
       "    .dataframe tbody tr th:only-of-type {\n",
       "        vertical-align: middle;\n",
       "    }\n",
       "\n",
       "    .dataframe tbody tr th {\n",
       "        vertical-align: top;\n",
       "    }\n",
       "\n",
       "    .dataframe thead th {\n",
       "        text-align: right;\n",
       "    }\n",
       "</style>\n",
       "<table border=\"1\" class=\"dataframe\">\n",
       "  <thead>\n",
       "    <tr style=\"text-align: right;\">\n",
       "      <th></th>\n",
       "      <th>duration</th>\n",
       "      <th>amount</th>\n",
       "      <th>age</th>\n",
       "      <th>checkingstatus</th>\n",
       "      <th>history</th>\n",
       "      <th>purpose</th>\n",
       "      <th>savings</th>\n",
       "      <th>employ</th>\n",
       "      <th>status</th>\n",
       "      <th>others</th>\n",
       "      <th>property</th>\n",
       "      <th>otherplans</th>\n",
       "      <th>housing</th>\n",
       "      <th>foreign</th>\n",
       "    </tr>\n",
       "  </thead>\n",
       "  <tbody>\n",
       "    <tr>\n",
       "      <th>0</th>\n",
       "      <td>6</td>\n",
       "      <td>1169</td>\n",
       "      <td>67</td>\n",
       "      <td>A11</td>\n",
       "      <td>A34</td>\n",
       "      <td>A43</td>\n",
       "      <td>A65</td>\n",
       "      <td>5</td>\n",
       "      <td>A93</td>\n",
       "      <td>A101</td>\n",
       "      <td>A121</td>\n",
       "      <td>A143</td>\n",
       "      <td>A152</td>\n",
       "      <td>A201</td>\n",
       "    </tr>\n",
       "    <tr>\n",
       "      <th>1</th>\n",
       "      <td>48</td>\n",
       "      <td>5951</td>\n",
       "      <td>22</td>\n",
       "      <td>A12</td>\n",
       "      <td>A32</td>\n",
       "      <td>A43</td>\n",
       "      <td>A61</td>\n",
       "      <td>3</td>\n",
       "      <td>A92</td>\n",
       "      <td>A101</td>\n",
       "      <td>A121</td>\n",
       "      <td>A143</td>\n",
       "      <td>A152</td>\n",
       "      <td>A201</td>\n",
       "    </tr>\n",
       "    <tr>\n",
       "      <th>2</th>\n",
       "      <td>12</td>\n",
       "      <td>2096</td>\n",
       "      <td>49</td>\n",
       "      <td>A14</td>\n",
       "      <td>A34</td>\n",
       "      <td>A46</td>\n",
       "      <td>A61</td>\n",
       "      <td>4</td>\n",
       "      <td>A93</td>\n",
       "      <td>A101</td>\n",
       "      <td>A121</td>\n",
       "      <td>A143</td>\n",
       "      <td>A152</td>\n",
       "      <td>A201</td>\n",
       "    </tr>\n",
       "    <tr>\n",
       "      <th>3</th>\n",
       "      <td>42</td>\n",
       "      <td>7882</td>\n",
       "      <td>45</td>\n",
       "      <td>A11</td>\n",
       "      <td>A32</td>\n",
       "      <td>A42</td>\n",
       "      <td>A61</td>\n",
       "      <td>4</td>\n",
       "      <td>A93</td>\n",
       "      <td>A103</td>\n",
       "      <td>A122</td>\n",
       "      <td>A143</td>\n",
       "      <td>A153</td>\n",
       "      <td>A201</td>\n",
       "    </tr>\n",
       "    <tr>\n",
       "      <th>4</th>\n",
       "      <td>24</td>\n",
       "      <td>4870</td>\n",
       "      <td>53</td>\n",
       "      <td>A11</td>\n",
       "      <td>A33</td>\n",
       "      <td>A40</td>\n",
       "      <td>A61</td>\n",
       "      <td>3</td>\n",
       "      <td>A93</td>\n",
       "      <td>A101</td>\n",
       "      <td>A124</td>\n",
       "      <td>A143</td>\n",
       "      <td>A153</td>\n",
       "      <td>A201</td>\n",
       "    </tr>\n",
       "  </tbody>\n",
       "</table>\n",
       "</div>"
      ],
      "text/plain": [
       "   duration  amount  age checkingstatus history purpose savings  employ  \\\n",
       "0         6    1169   67            A11     A34     A43     A65       5   \n",
       "1        48    5951   22            A12     A32     A43     A61       3   \n",
       "2        12    2096   49            A14     A34     A46     A61       4   \n",
       "3        42    7882   45            A11     A32     A42     A61       4   \n",
       "4        24    4870   53            A11     A33     A40     A61       3   \n",
       "\n",
       "  status others property otherplans housing foreign  \n",
       "0    A93   A101     A121       A143    A152    A201  \n",
       "1    A92   A101     A121       A143    A152    A201  \n",
       "2    A93   A101     A121       A143    A152    A201  \n",
       "3    A93   A103     A122       A143    A153    A201  \n",
       "4    A93   A101     A124       A143    A153    A201  "
      ]
     },
     "execution_count": 62,
     "metadata": {},
     "output_type": "execute_result"
    }
   ],
   "source": [
    "final_df['employ'].replace({'A71':1,'A72':2,'A73':3,'A74':4,'A75':5},inplace=True)\n",
    "final_df.head()"
   ]
  },
  {
   "cell_type": "markdown",
   "id": "b5c51d2c",
   "metadata": {},
   "source": [
    "## Converting the binary nominal variable to numeric using 1/0 mapping"
   ]
  },
  {
   "cell_type": "code",
   "execution_count": 63,
   "id": "a2ed7b41",
   "metadata": {},
   "outputs": [
    {
     "data": {
      "text/plain": [
       "duration           33\n",
       "amount            921\n",
       "age                53\n",
       "checkingstatus      4\n",
       "history             5\n",
       "purpose            10\n",
       "savings             5\n",
       "employ              5\n",
       "status              4\n",
       "others              3\n",
       "property            4\n",
       "otherplans          3\n",
       "housing             3\n",
       "foreign             2\n",
       "dtype: int64"
      ]
     },
     "execution_count": 63,
     "metadata": {},
     "output_type": "execute_result"
    }
   ],
   "source": [
    "final_df.nunique()"
   ]
  },
  {
   "cell_type": "code",
   "execution_count": 64,
   "id": "73722dd4",
   "metadata": {},
   "outputs": [
    {
     "data": {
      "text/html": [
       "<div>\n",
       "<style scoped>\n",
       "    .dataframe tbody tr th:only-of-type {\n",
       "        vertical-align: middle;\n",
       "    }\n",
       "\n",
       "    .dataframe tbody tr th {\n",
       "        vertical-align: top;\n",
       "    }\n",
       "\n",
       "    .dataframe thead th {\n",
       "        text-align: right;\n",
       "    }\n",
       "</style>\n",
       "<table border=\"1\" class=\"dataframe\">\n",
       "  <thead>\n",
       "    <tr style=\"text-align: right;\">\n",
       "      <th></th>\n",
       "      <th>duration</th>\n",
       "      <th>amount</th>\n",
       "      <th>age</th>\n",
       "      <th>checkingstatus</th>\n",
       "      <th>history</th>\n",
       "      <th>purpose</th>\n",
       "      <th>savings</th>\n",
       "      <th>employ</th>\n",
       "      <th>status</th>\n",
       "      <th>others</th>\n",
       "      <th>property</th>\n",
       "      <th>otherplans</th>\n",
       "      <th>housing</th>\n",
       "      <th>foreign</th>\n",
       "    </tr>\n",
       "  </thead>\n",
       "  <tbody>\n",
       "    <tr>\n",
       "      <th>0</th>\n",
       "      <td>6</td>\n",
       "      <td>1169</td>\n",
       "      <td>67</td>\n",
       "      <td>A11</td>\n",
       "      <td>A34</td>\n",
       "      <td>A43</td>\n",
       "      <td>A65</td>\n",
       "      <td>5</td>\n",
       "      <td>A93</td>\n",
       "      <td>A101</td>\n",
       "      <td>A121</td>\n",
       "      <td>A143</td>\n",
       "      <td>A152</td>\n",
       "      <td>0</td>\n",
       "    </tr>\n",
       "    <tr>\n",
       "      <th>1</th>\n",
       "      <td>48</td>\n",
       "      <td>5951</td>\n",
       "      <td>22</td>\n",
       "      <td>A12</td>\n",
       "      <td>A32</td>\n",
       "      <td>A43</td>\n",
       "      <td>A61</td>\n",
       "      <td>3</td>\n",
       "      <td>A92</td>\n",
       "      <td>A101</td>\n",
       "      <td>A121</td>\n",
       "      <td>A143</td>\n",
       "      <td>A152</td>\n",
       "      <td>0</td>\n",
       "    </tr>\n",
       "    <tr>\n",
       "      <th>2</th>\n",
       "      <td>12</td>\n",
       "      <td>2096</td>\n",
       "      <td>49</td>\n",
       "      <td>A14</td>\n",
       "      <td>A34</td>\n",
       "      <td>A46</td>\n",
       "      <td>A61</td>\n",
       "      <td>4</td>\n",
       "      <td>A93</td>\n",
       "      <td>A101</td>\n",
       "      <td>A121</td>\n",
       "      <td>A143</td>\n",
       "      <td>A152</td>\n",
       "      <td>0</td>\n",
       "    </tr>\n",
       "    <tr>\n",
       "      <th>3</th>\n",
       "      <td>42</td>\n",
       "      <td>7882</td>\n",
       "      <td>45</td>\n",
       "      <td>A11</td>\n",
       "      <td>A32</td>\n",
       "      <td>A42</td>\n",
       "      <td>A61</td>\n",
       "      <td>4</td>\n",
       "      <td>A93</td>\n",
       "      <td>A103</td>\n",
       "      <td>A122</td>\n",
       "      <td>A143</td>\n",
       "      <td>A153</td>\n",
       "      <td>0</td>\n",
       "    </tr>\n",
       "    <tr>\n",
       "      <th>4</th>\n",
       "      <td>24</td>\n",
       "      <td>4870</td>\n",
       "      <td>53</td>\n",
       "      <td>A11</td>\n",
       "      <td>A33</td>\n",
       "      <td>A40</td>\n",
       "      <td>A61</td>\n",
       "      <td>3</td>\n",
       "      <td>A93</td>\n",
       "      <td>A101</td>\n",
       "      <td>A124</td>\n",
       "      <td>A143</td>\n",
       "      <td>A153</td>\n",
       "      <td>0</td>\n",
       "    </tr>\n",
       "  </tbody>\n",
       "</table>\n",
       "</div>"
      ],
      "text/plain": [
       "   duration  amount  age checkingstatus history purpose savings  employ  \\\n",
       "0         6    1169   67            A11     A34     A43     A65       5   \n",
       "1        48    5951   22            A12     A32     A43     A61       3   \n",
       "2        12    2096   49            A14     A34     A46     A61       4   \n",
       "3        42    7882   45            A11     A32     A42     A61       4   \n",
       "4        24    4870   53            A11     A33     A40     A61       3   \n",
       "\n",
       "  status others property otherplans housing  foreign  \n",
       "0    A93   A101     A121       A143    A152        0  \n",
       "1    A92   A101     A121       A143    A152        0  \n",
       "2    A93   A101     A121       A143    A152        0  \n",
       "3    A93   A103     A122       A143    A153        0  \n",
       "4    A93   A101     A124       A143    A153        0  "
      ]
     },
     "execution_count": 64,
     "metadata": {},
     "output_type": "execute_result"
    }
   ],
   "source": [
    "final_df['foreign'].replace({'A201':0,'A202':1},inplace=True)\n",
    "final_df.head()"
   ]
  },
  {
   "cell_type": "markdown",
   "id": "cc9d6097",
   "metadata": {},
   "source": [
    "## Converting the nominal variable to numeric using get_dummies()"
   ]
  },
  {
   "cell_type": "code",
   "execution_count": 65,
   "id": "06e65d2c",
   "metadata": {},
   "outputs": [
    {
     "data": {
      "text/html": [
       "<div>\n",
       "<style scoped>\n",
       "    .dataframe tbody tr th:only-of-type {\n",
       "        vertical-align: middle;\n",
       "    }\n",
       "\n",
       "    .dataframe tbody tr th {\n",
       "        vertical-align: top;\n",
       "    }\n",
       "\n",
       "    .dataframe thead th {\n",
       "        text-align: right;\n",
       "    }\n",
       "</style>\n",
       "<table border=\"1\" class=\"dataframe\">\n",
       "  <thead>\n",
       "    <tr style=\"text-align: right;\">\n",
       "      <th></th>\n",
       "      <th>duration</th>\n",
       "      <th>amount</th>\n",
       "      <th>age</th>\n",
       "      <th>employ</th>\n",
       "      <th>foreign</th>\n",
       "      <th>checkingstatus_A11</th>\n",
       "      <th>checkingstatus_A12</th>\n",
       "      <th>checkingstatus_A13</th>\n",
       "      <th>checkingstatus_A14</th>\n",
       "      <th>history_A30</th>\n",
       "      <th>...</th>\n",
       "      <th>property_A121</th>\n",
       "      <th>property_A122</th>\n",
       "      <th>property_A123</th>\n",
       "      <th>property_A124</th>\n",
       "      <th>otherplans_A141</th>\n",
       "      <th>otherplans_A142</th>\n",
       "      <th>otherplans_A143</th>\n",
       "      <th>housing_A151</th>\n",
       "      <th>housing_A152</th>\n",
       "      <th>housing_A153</th>\n",
       "    </tr>\n",
       "  </thead>\n",
       "  <tbody>\n",
       "    <tr>\n",
       "      <th>0</th>\n",
       "      <td>6</td>\n",
       "      <td>1169</td>\n",
       "      <td>67</td>\n",
       "      <td>5</td>\n",
       "      <td>0</td>\n",
       "      <td>1</td>\n",
       "      <td>0</td>\n",
       "      <td>0</td>\n",
       "      <td>0</td>\n",
       "      <td>0</td>\n",
       "      <td>...</td>\n",
       "      <td>1</td>\n",
       "      <td>0</td>\n",
       "      <td>0</td>\n",
       "      <td>0</td>\n",
       "      <td>0</td>\n",
       "      <td>0</td>\n",
       "      <td>1</td>\n",
       "      <td>0</td>\n",
       "      <td>1</td>\n",
       "      <td>0</td>\n",
       "    </tr>\n",
       "    <tr>\n",
       "      <th>1</th>\n",
       "      <td>48</td>\n",
       "      <td>5951</td>\n",
       "      <td>22</td>\n",
       "      <td>3</td>\n",
       "      <td>0</td>\n",
       "      <td>0</td>\n",
       "      <td>1</td>\n",
       "      <td>0</td>\n",
       "      <td>0</td>\n",
       "      <td>0</td>\n",
       "      <td>...</td>\n",
       "      <td>1</td>\n",
       "      <td>0</td>\n",
       "      <td>0</td>\n",
       "      <td>0</td>\n",
       "      <td>0</td>\n",
       "      <td>0</td>\n",
       "      <td>1</td>\n",
       "      <td>0</td>\n",
       "      <td>1</td>\n",
       "      <td>0</td>\n",
       "    </tr>\n",
       "    <tr>\n",
       "      <th>2</th>\n",
       "      <td>12</td>\n",
       "      <td>2096</td>\n",
       "      <td>49</td>\n",
       "      <td>4</td>\n",
       "      <td>0</td>\n",
       "      <td>0</td>\n",
       "      <td>0</td>\n",
       "      <td>0</td>\n",
       "      <td>1</td>\n",
       "      <td>0</td>\n",
       "      <td>...</td>\n",
       "      <td>1</td>\n",
       "      <td>0</td>\n",
       "      <td>0</td>\n",
       "      <td>0</td>\n",
       "      <td>0</td>\n",
       "      <td>0</td>\n",
       "      <td>1</td>\n",
       "      <td>0</td>\n",
       "      <td>1</td>\n",
       "      <td>0</td>\n",
       "    </tr>\n",
       "    <tr>\n",
       "      <th>3</th>\n",
       "      <td>42</td>\n",
       "      <td>7882</td>\n",
       "      <td>45</td>\n",
       "      <td>4</td>\n",
       "      <td>0</td>\n",
       "      <td>1</td>\n",
       "      <td>0</td>\n",
       "      <td>0</td>\n",
       "      <td>0</td>\n",
       "      <td>0</td>\n",
       "      <td>...</td>\n",
       "      <td>0</td>\n",
       "      <td>1</td>\n",
       "      <td>0</td>\n",
       "      <td>0</td>\n",
       "      <td>0</td>\n",
       "      <td>0</td>\n",
       "      <td>1</td>\n",
       "      <td>0</td>\n",
       "      <td>0</td>\n",
       "      <td>1</td>\n",
       "    </tr>\n",
       "    <tr>\n",
       "      <th>4</th>\n",
       "      <td>24</td>\n",
       "      <td>4870</td>\n",
       "      <td>53</td>\n",
       "      <td>3</td>\n",
       "      <td>0</td>\n",
       "      <td>1</td>\n",
       "      <td>0</td>\n",
       "      <td>0</td>\n",
       "      <td>0</td>\n",
       "      <td>0</td>\n",
       "      <td>...</td>\n",
       "      <td>0</td>\n",
       "      <td>0</td>\n",
       "      <td>0</td>\n",
       "      <td>1</td>\n",
       "      <td>0</td>\n",
       "      <td>0</td>\n",
       "      <td>1</td>\n",
       "      <td>0</td>\n",
       "      <td>0</td>\n",
       "      <td>1</td>\n",
       "    </tr>\n",
       "  </tbody>\n",
       "</table>\n",
       "<p>5 rows × 46 columns</p>\n",
       "</div>"
      ],
      "text/plain": [
       "   duration  amount  age  employ  foreign  checkingstatus_A11  \\\n",
       "0         6    1169   67       5        0                   1   \n",
       "1        48    5951   22       3        0                   0   \n",
       "2        12    2096   49       4        0                   0   \n",
       "3        42    7882   45       4        0                   1   \n",
       "4        24    4870   53       3        0                   1   \n",
       "\n",
       "   checkingstatus_A12  checkingstatus_A13  checkingstatus_A14  history_A30  \\\n",
       "0                   0                   0                   0            0   \n",
       "1                   1                   0                   0            0   \n",
       "2                   0                   0                   1            0   \n",
       "3                   0                   0                   0            0   \n",
       "4                   0                   0                   0            0   \n",
       "\n",
       "   ...  property_A121  property_A122  property_A123  property_A124  \\\n",
       "0  ...              1              0              0              0   \n",
       "1  ...              1              0              0              0   \n",
       "2  ...              1              0              0              0   \n",
       "3  ...              0              1              0              0   \n",
       "4  ...              0              0              0              1   \n",
       "\n",
       "   otherplans_A141  otherplans_A142  otherplans_A143  housing_A151  \\\n",
       "0                0                0                1             0   \n",
       "1                0                0                1             0   \n",
       "2                0                0                1             0   \n",
       "3                0                0                1             0   \n",
       "4                0                0                1             0   \n",
       "\n",
       "   housing_A152  housing_A153  \n",
       "0             1             0  \n",
       "1             1             0  \n",
       "2             1             0  \n",
       "3             0             1  \n",
       "4             0             1  \n",
       "\n",
       "[5 rows x 46 columns]"
      ]
     },
     "execution_count": 65,
     "metadata": {},
     "output_type": "execute_result"
    }
   ],
   "source": [
    "# Treating all the nominal variables at once using dummy variables\n",
    "final_df=pd.get_dummies(final_df)\n",
    "final_df.head()"
   ]
  },
  {
   "cell_type": "code",
   "execution_count": 66,
   "id": "7c7fb6ae",
   "metadata": {},
   "outputs": [],
   "source": [
    "# Adding Target Variable to the data\n",
    "final_df['GoodCredit']=CreditRisk['GoodCredit']"
   ]
  },
  {
   "cell_type": "markdown",
   "id": "994d8102",
   "metadata": {},
   "source": [
    "# Machine Learning: Splitting the data into Training and Testing sample"
   ]
  },
  {
   "cell_type": "code",
   "execution_count": 67,
   "id": "41b7318f",
   "metadata": {},
   "outputs": [
    {
     "data": {
      "text/plain": [
       "Index(['duration', 'amount', 'age', 'employ', 'foreign', 'checkingstatus_A11',\n",
       "       'checkingstatus_A12', 'checkingstatus_A13', 'checkingstatus_A14',\n",
       "       'history_A30', 'history_A31', 'history_A32', 'history_A33',\n",
       "       'history_A34', 'purpose_A40', 'purpose_A41', 'purpose_A410',\n",
       "       'purpose_A42', 'purpose_A43', 'purpose_A44', 'purpose_A45',\n",
       "       'purpose_A46', 'purpose_A48', 'purpose_A49', 'savings_A61',\n",
       "       'savings_A62', 'savings_A63', 'savings_A64', 'savings_A65',\n",
       "       'status_A91', 'status_A92', 'status_A93', 'status_A94', 'others_A101',\n",
       "       'others_A102', 'others_A103', 'property_A121', 'property_A122',\n",
       "       'property_A123', 'property_A124', 'otherplans_A141', 'otherplans_A142',\n",
       "       'otherplans_A143', 'housing_A151', 'housing_A152', 'housing_A153',\n",
       "       'GoodCredit'],\n",
       "      dtype='object')"
      ]
     },
     "execution_count": 67,
     "metadata": {},
     "output_type": "execute_result"
    }
   ],
   "source": [
    "final_df.columns"
   ]
  },
  {
   "cell_type": "code",
   "execution_count": 68,
   "id": "d3b8106d",
   "metadata": {},
   "outputs": [],
   "source": [
    "TV='GoodCredit'\n",
    "Predictors=['duration', 'amount', 'age', 'employ', 'foreign', 'checkingstatus_A11',\n",
    "       'checkingstatus_A12', 'checkingstatus_A13', 'checkingstatus_A14',\n",
    "       'history_A30', 'history_A31', 'history_A32', 'history_A33',\n",
    "       'history_A34', 'purpose_A40', 'purpose_A41', 'purpose_A410',\n",
    "       'purpose_A42', 'purpose_A43', 'purpose_A44', 'purpose_A45',\n",
    "       'purpose_A46', 'purpose_A48', 'purpose_A49', 'savings_A61',\n",
    "       'savings_A62', 'savings_A63', 'savings_A64', 'savings_A65',\n",
    "       'status_A91', 'status_A92', 'status_A93', 'status_A94', 'others_A101',\n",
    "       'others_A102', 'others_A103', 'property_A121', 'property_A122',\n",
    "       'property_A123', 'property_A124', 'otherplans_A141', 'otherplans_A142',\n",
    "       'otherplans_A143', 'housing_A151', 'housing_A152', 'housing_A153']"
   ]
  },
  {
   "cell_type": "code",
   "execution_count": 69,
   "id": "e3957277",
   "metadata": {},
   "outputs": [],
   "source": [
    "x=final_df[Predictors]\n",
    "y=final_df[TV]"
   ]
  },
  {
   "cell_type": "code",
   "execution_count": null,
   "id": "d03a0aea",
   "metadata": {},
   "outputs": [],
   "source": []
  },
  {
   "cell_type": "markdown",
   "id": "ac6c9a8c",
   "metadata": {},
   "source": [
    "# Standardization/Normalization"
   ]
  },
  {
   "cell_type": "code",
   "execution_count": 33,
   "id": "58bebbe2",
   "metadata": {},
   "outputs": [],
   "source": [
    "from sklearn.preprocessing import MinMaxScaler\n",
    "\n",
    "# Storing the fit object for later reference\n",
    "Scaler=MinMaxScaler().fit(x)\n",
    "# Generating the standardized values of X\n",
    "x=Scaler.transform(x)"
   ]
  },
  {
   "cell_type": "code",
   "execution_count": 34,
   "id": "13d71f4e",
   "metadata": {},
   "outputs": [],
   "source": [
    "#Splitting the data\n",
    "from sklearn.model_selection import train_test_split\n",
    "x_train, x_test, y_train, y_test=train_test_split(x,y,test_size=0.3)"
   ]
  },
  {
   "cell_type": "code",
   "execution_count": 35,
   "id": "415f5853",
   "metadata": {},
   "outputs": [
    {
     "name": "stdout",
     "output_type": "stream",
     "text": [
      "(700, 46)\n",
      "(700,)\n",
      "(300, 46)\n",
      "(300,)\n"
     ]
    }
   ],
   "source": [
    "# Sanity check for the sampled data\n",
    "print(x_train.shape)\n",
    "print(y_train.shape)\n",
    "print(x_test.shape)\n",
    "print(y_test.shape)"
   ]
  },
  {
   "cell_type": "markdown",
   "id": "9cd201a4",
   "metadata": {},
   "source": [
    "# Logistic Regression"
   ]
  },
  {
   "cell_type": "code",
   "execution_count": 36,
   "id": "6f993090",
   "metadata": {},
   "outputs": [],
   "source": [
    "from sklearn.linear_model import LogisticRegression\n",
    "lm=LogisticRegression(solver='newton-cg')\n",
    "\n",
    "# Creating the model on Training Data\n",
    "lm=lm.fit(x_train,y_train)\n",
    "prediction=lm.predict(x_test)"
   ]
  },
  {
   "cell_type": "markdown",
   "id": "07e75edd",
   "metadata": {},
   "source": [
    "# Model Evaluation"
   ]
  },
  {
   "cell_type": "code",
   "execution_count": 37,
   "id": "8a528d49",
   "metadata": {},
   "outputs": [
    {
     "name": "stdout",
     "output_type": "stream",
     "text": [
      "Classification report: \n",
      "               precision    recall  f1-score   support\n",
      "\n",
      "           0       0.91      0.82      0.86       235\n",
      "           1       0.52      0.69      0.59        65\n",
      "\n",
      "    accuracy                           0.79       300\n",
      "   macro avg       0.71      0.76      0.73       300\n",
      "weighted avg       0.82      0.79      0.80       300\n",
      "\n",
      "Confusion matrix: \n",
      " [[193  42]\n",
      " [ 20  45]]\n"
     ]
    }
   ],
   "source": [
    "from sklearn import metrics\n",
    "\n",
    "# Measuring accuracy on Testing Data\n",
    "print(\"Classification report: \\n\", metrics.classification_report(prediction,y_test))\n",
    "print(\"Confusion matrix: \\n\", metrics.confusion_matrix(prediction,y_test))"
   ]
  },
  {
   "cell_type": "code",
   "execution_count": 38,
   "id": "69a891d6",
   "metadata": {},
   "outputs": [
    {
     "name": "stdout",
     "output_type": "stream",
     "text": [
      "Average model accuracy: 0.8\n"
     ]
    }
   ],
   "source": [
    "# Printing the Overall Accuracy of the model using F1 score\n",
    "print(\"Average model accuracy:\",round(metrics.f1_score(prediction,y_test,average=\"weighted\"),2))"
   ]
  },
  {
   "cell_type": "code",
   "execution_count": 39,
   "id": "0ecf4100",
   "metadata": {},
   "outputs": [
    {
     "name": "stdout",
     "output_type": "stream",
     "text": [
      "Final average accuracy of model: 0.74\n"
     ]
    }
   ],
   "source": [
    "from sklearn.model_selection import cross_val_score\n",
    "\n",
    "# Passing full data X and y because the K-fold will split the data and automatically choose train/test\n",
    "Accuracy=cross_val_score(lm,x,y,cv=7,scoring=\"f1_weighted\")\n",
    "print(\"Final average accuracy of model:\",round(Accuracy.mean(),2))"
   ]
  },
  {
   "cell_type": "markdown",
   "id": "d85b42fb",
   "metadata": {},
   "source": [
    "# Decision Trees"
   ]
  },
  {
   "cell_type": "code",
   "execution_count": 40,
   "id": "d4a6177f",
   "metadata": {},
   "outputs": [],
   "source": [
    "from sklearn.tree import DecisionTreeClassifier\n",
    "dt=DecisionTreeClassifier(max_depth=5,criterion='entropy').fit(x_train,y_train)\n",
    "Prediction=dt.predict(x_test)"
   ]
  },
  {
   "cell_type": "code",
   "execution_count": 41,
   "id": "fe18da00",
   "metadata": {},
   "outputs": [
    {
     "name": "stdout",
     "output_type": "stream",
     "text": [
      "Classification report: \n",
      "               precision    recall  f1-score   support\n",
      "\n",
      "           0       0.78      0.79      0.79       209\n",
      "           1       0.51      0.48      0.49        91\n",
      "\n",
      "    accuracy                           0.70       300\n",
      "   macro avg       0.64      0.64      0.64       300\n",
      "weighted avg       0.70      0.70      0.70       300\n",
      "\n",
      "Confusion matrix: \n",
      " [[166  43]\n",
      " [ 47  44]]\n"
     ]
    }
   ],
   "source": [
    "# Measuring accuracy on Testing Data\n",
    "print(\"Classification report: \\n\",metrics.classification_report(Prediction,y_test))\n",
    "print(\"Confusion matrix: \\n\",metrics.confusion_matrix(Prediction,y_test))"
   ]
  },
  {
   "cell_type": "code",
   "execution_count": 42,
   "id": "47f81da1",
   "metadata": {},
   "outputs": [
    {
     "name": "stdout",
     "output_type": "stream",
     "text": [
      "Average Accuracy of the model: 0.7\n"
     ]
    }
   ],
   "source": [
    "# Printing the Overall Accuracy of the model using F1 score\n",
    "print(\"Average Accuracy of the model:\", round(metrics.f1_score(Prediction,y_test,average=\"weighted\"),2))"
   ]
  },
  {
   "cell_type": "code",
   "execution_count": 44,
   "id": "45c10926",
   "metadata": {},
   "outputs": [
    {
     "data": {
      "text/plain": [
       "<AxesSubplot:>"
      ]
     },
     "execution_count": 44,
     "metadata": {},
     "output_type": "execute_result"
    },
    {
     "data": {
      "image/png": "[encoded data removed]",
      "text/plain": [
       "<Figure size 432x288 with 1 Axes>"
      ]
     },
     "metadata": {
      "needs_background": "light"
     },
     "output_type": "display_data"
    }
   ],
   "source": [
    "# Plotting the feature importance for Top 10 most important columns\n",
    "features=pd.Series(dt.feature_importances_,index=Predictors)\n",
    "features.nlargest(10).plot(kind='barh')"
   ]
  },
  {
   "cell_type": "code",
   "execution_count": 57,
   "id": "16e134c1",
   "metadata": {},
   "outputs": [
    {
     "name": "stdout",
     "output_type": "stream",
     "text": [
      "Final Average Accuracy of model: 0.7\n"
     ]
    }
   ],
   "source": [
    "Accu_Score=cross_val_score(dt,x,y,cv=5,scoring='f1_weighted')\n",
    "print(\"Final Average Accuracy of model:\",round(Accu_Score.mean(),2))"
   ]
  },
  {
   "cell_type": "markdown",
   "id": "561626b4",
   "metadata": {},
   "source": [
    "### Plotting a Decision Tree"
   ]
  },
  {
   "cell_type": "code",
   "execution_count": 47,
   "id": "5bde4237",
   "metadata": {},
   "outputs": [],
   "source": [
    "import os\n",
    "os.environ['PATH']+=os.pathsep+'C:\\\\Users\\\\eshvi\\\\anaconda3\\\\Library\\\\bin\\\\graphviz'"
   ]
  },
  {
   "cell_type": "code",
   "execution_count": 50,
   "id": "8c2a1bda",
   "metadata": {},
   "outputs": [],
   "source": [
    "from IPython.display import Image\n",
    "from sklearn import tree\n",
    "import pydotplus"
   ]
  },
  {
   "cell_type": "code",
   "execution_count": 71,
   "id": "d71f9c0e",
   "metadata": {},
   "outputs": [
    {
     "ename": "TypeError",
     "evalue": "can only concatenate str (not \"numpy.int64\") to str",
     "output_type": "error",
     "traceback": [
      "\u001b[1;31m---------------------------------------------------------------------------\u001b[0m",
      "\u001b[1;31mTypeError\u001b[0m                                 Traceback (most recent call last)",
      "\u001b[1;32m~\\AppData\\Local\\Temp/ipykernel_16500/3204120540.py\u001b[0m in \u001b[0;36m<module>\u001b[1;34m\u001b[0m\n\u001b[0;32m      1\u001b[0m \u001b[1;31m#Create DOT Data\u001b[0m\u001b[1;33m\u001b[0m\u001b[1;33m\u001b[0m\u001b[0m\n\u001b[1;32m----> 2\u001b[1;33m \u001b[0mdot_data\u001b[0m\u001b[1;33m=\u001b[0m\u001b[0mtree\u001b[0m\u001b[1;33m.\u001b[0m\u001b[0mexport_graphviz\u001b[0m\u001b[1;33m(\u001b[0m\u001b[0mdt\u001b[0m\u001b[1;33m,\u001b[0m\u001b[0mout_file\u001b[0m\u001b[1;33m=\u001b[0m\u001b[1;32mNone\u001b[0m\u001b[1;33m,\u001b[0m\u001b[0mfeature_names\u001b[0m\u001b[1;33m=\u001b[0m\u001b[0mPredictors\u001b[0m\u001b[1;33m,\u001b[0m\u001b[0mclass_names\u001b[0m\u001b[1;33m=\u001b[0m\u001b[0my\u001b[0m\u001b[1;33m)\u001b[0m\u001b[1;33m\u001b[0m\u001b[1;33m\u001b[0m\u001b[0m\n\u001b[0m\u001b[0;32m      3\u001b[0m \u001b[1;33m\u001b[0m\u001b[0m\n",
      "\u001b[1;32m~\\anaconda3\\lib\\site-packages\\sklearn\\utils\\validation.py\u001b[0m in \u001b[0;36minner_f\u001b[1;34m(*args, **kwargs)\u001b[0m\n\u001b[0;32m     61\u001b[0m             \u001b[0mextra_args\u001b[0m \u001b[1;33m=\u001b[0m \u001b[0mlen\u001b[0m\u001b[1;33m(\u001b[0m\u001b[0margs\u001b[0m\u001b[1;33m)\u001b[0m \u001b[1;33m-\u001b[0m \u001b[0mlen\u001b[0m\u001b[1;33m(\u001b[0m\u001b[0mall_args\u001b[0m\u001b[1;33m)\u001b[0m\u001b[1;33m\u001b[0m\u001b[1;33m\u001b[0m\u001b[0m\n\u001b[0;32m     62\u001b[0m             \u001b[1;32mif\u001b[0m \u001b[0mextra_args\u001b[0m \u001b[1;33m<=\u001b[0m \u001b[1;36m0\u001b[0m\u001b[1;33m:\u001b[0m\u001b[1;33m\u001b[0m\u001b[1;33m\u001b[0m\u001b[0m\n\u001b[1;32m---> 63\u001b[1;33m                 \u001b[1;32mreturn\u001b[0m \u001b[0mf\u001b[0m\u001b[1;33m(\u001b[0m\u001b[1;33m*\u001b[0m\u001b[0margs\u001b[0m\u001b[1;33m,\u001b[0m \u001b[1;33m**\u001b[0m\u001b[0mkwargs\u001b[0m\u001b[1;33m)\u001b[0m\u001b[1;33m\u001b[0m\u001b[1;33m\u001b[0m\u001b[0m\n\u001b[0m\u001b[0;32m     64\u001b[0m \u001b[1;33m\u001b[0m\u001b[0m\n\u001b[0;32m     65\u001b[0m             \u001b[1;31m# extra_args > 0\u001b[0m\u001b[1;33m\u001b[0m\u001b[1;33m\u001b[0m\u001b[0m\n",
      "\u001b[1;32m~\\anaconda3\\lib\\site-packages\\sklearn\\tree\\_export.py\u001b[0m in \u001b[0;36mexport_graphviz\u001b[1;34m(decision_tree, out_file, max_depth, feature_names, class_names, label, filled, leaves_parallel, impurity, node_ids, proportion, rotate, rounded, special_characters, precision)\u001b[0m\n\u001b[0;32m    786\u001b[0m             \u001b[0mrounded\u001b[0m\u001b[1;33m=\u001b[0m\u001b[0mrounded\u001b[0m\u001b[1;33m,\u001b[0m \u001b[0mspecial_characters\u001b[0m\u001b[1;33m=\u001b[0m\u001b[0mspecial_characters\u001b[0m\u001b[1;33m,\u001b[0m\u001b[1;33m\u001b[0m\u001b[1;33m\u001b[0m\u001b[0m\n\u001b[0;32m    787\u001b[0m             precision=precision)\n\u001b[1;32m--> 788\u001b[1;33m         \u001b[0mexporter\u001b[0m\u001b[1;33m.\u001b[0m\u001b[0mexport\u001b[0m\u001b[1;33m(\u001b[0m\u001b[0mdecision_tree\u001b[0m\u001b[1;33m)\u001b[0m\u001b[1;33m\u001b[0m\u001b[1;33m\u001b[0m\u001b[0m\n\u001b[0m\u001b[0;32m    789\u001b[0m \u001b[1;33m\u001b[0m\u001b[0m\n\u001b[0;32m    790\u001b[0m         \u001b[1;32mif\u001b[0m \u001b[0mreturn_string\u001b[0m\u001b[1;33m:\u001b[0m\u001b[1;33m\u001b[0m\u001b[1;33m\u001b[0m\u001b[0m\n",
      "\u001b[1;32m~\\anaconda3\\lib\\site-packages\\sklearn\\tree\\_export.py\u001b[0m in \u001b[0;36mexport\u001b[1;34m(self, decision_tree)\u001b[0m\n\u001b[0;32m    422\u001b[0m             \u001b[0mself\u001b[0m\u001b[1;33m.\u001b[0m\u001b[0mrecurse\u001b[0m\u001b[1;33m(\u001b[0m\u001b[0mdecision_tree\u001b[0m\u001b[1;33m,\u001b[0m \u001b[1;36m0\u001b[0m\u001b[1;33m,\u001b[0m \u001b[0mcriterion\u001b[0m\u001b[1;33m=\u001b[0m\u001b[1;34m\"impurity\"\u001b[0m\u001b[1;33m)\u001b[0m\u001b[1;33m\u001b[0m\u001b[1;33m\u001b[0m\u001b[0m\n\u001b[0;32m    423\u001b[0m         \u001b[1;32melse\u001b[0m\u001b[1;33m:\u001b[0m\u001b[1;33m\u001b[0m\u001b[1;33m\u001b[0m\u001b[0m\n\u001b[1;32m--> 424\u001b[1;33m             self.recurse(decision_tree.tree_, 0,\n\u001b[0m\u001b[0;32m    425\u001b[0m                          criterion=decision_tree.criterion)\n\u001b[0;32m    426\u001b[0m \u001b[1;33m\u001b[0m\u001b[0m\n",
      "\u001b[1;32m~\\anaconda3\\lib\\site-packages\\sklearn\\tree\\_export.py\u001b[0m in \u001b[0;36mrecurse\u001b[1;34m(self, tree, node_id, criterion, parent, depth)\u001b[0m\n\u001b[0;32m    482\u001b[0m \u001b[1;33m\u001b[0m\u001b[0m\n\u001b[0;32m    483\u001b[0m             self.out_file.write(\n\u001b[1;32m--> 484\u001b[1;33m                 '%d [label=%s' % (node_id, self.node_to_str(tree, node_id,\n\u001b[0m\u001b[0;32m    485\u001b[0m                                                             criterion)))\n\u001b[0;32m    486\u001b[0m \u001b[1;33m\u001b[0m\u001b[0m\n",
      "\u001b[1;32m~\\anaconda3\\lib\\site-packages\\sklearn\\tree\\_export.py\u001b[0m in \u001b[0;36mnode_to_str\u001b[1;34m(self, tree, node_id, criterion)\u001b[0m\n\u001b[0;32m    358\u001b[0m                                           \u001b[0mnp\u001b[0m\u001b[1;33m.\u001b[0m\u001b[0margmax\u001b[0m\u001b[1;33m(\u001b[0m\u001b[0mvalue\u001b[0m\u001b[1;33m)\u001b[0m\u001b[1;33m,\u001b[0m\u001b[1;33m\u001b[0m\u001b[1;33m\u001b[0m\u001b[0m\n\u001b[0;32m    359\u001b[0m                                           characters[2])\n\u001b[1;32m--> 360\u001b[1;33m             \u001b[0mnode_string\u001b[0m \u001b[1;33m+=\u001b[0m \u001b[0mclass_name\u001b[0m\u001b[1;33m\u001b[0m\u001b[1;33m\u001b[0m\u001b[0m\n\u001b[0m\u001b[0;32m    361\u001b[0m \u001b[1;33m\u001b[0m\u001b[0m\n\u001b[0;32m    362\u001b[0m         \u001b[1;31m# Clean up any trailing newlines\u001b[0m\u001b[1;33m\u001b[0m\u001b[1;33m\u001b[0m\u001b[0m\n",
      "\u001b[1;31mTypeError\u001b[0m: can only concatenate str (not \"numpy.int64\") to str"
     ]
    }
   ],
   "source": [
    "#Create DOT Data\n",
    "dot_data=tree.export_graphviz(dt,out_file=None,feature_names=Predictors,class_names=y)\n",
    "\n"
   ]
  },
  {
   "cell_type": "code",
   "execution_count": 74,
   "id": "9cc17949",
   "metadata": {},
   "outputs": [
    {
     "ename": "TypeError",
     "evalue": "can only concatenate str (not \"numpy.int64\") to str",
     "output_type": "error",
     "traceback": [
      "\u001b[1;31m---------------------------------------------------------------------------\u001b[0m",
      "\u001b[1;31mTypeError\u001b[0m                                 Traceback (most recent call last)",
      "\u001b[1;32m~\\AppData\\Local\\Temp/ipykernel_16500/4142958954.py\u001b[0m in \u001b[0;36m<module>\u001b[1;34m\u001b[0m\n\u001b[0;32m      1\u001b[0m \u001b[1;31m# Create DOT data\u001b[0m\u001b[1;33m\u001b[0m\u001b[1;33m\u001b[0m\u001b[0m\n\u001b[1;32m----> 2\u001b[1;33m \u001b[0mdot_data\u001b[0m\u001b[1;33m=\u001b[0m\u001b[0mtree\u001b[0m\u001b[1;33m.\u001b[0m\u001b[0mexport_graphviz\u001b[0m\u001b[1;33m(\u001b[0m\u001b[0mdt\u001b[0m\u001b[1;33m,\u001b[0m\u001b[0mout_file\u001b[0m\u001b[1;33m=\u001b[0m\u001b[1;32mNone\u001b[0m\u001b[1;33m,\u001b[0m\u001b[0mfeature_names\u001b[0m\u001b[1;33m=\u001b[0m\u001b[0mPredictors\u001b[0m\u001b[1;33m,\u001b[0m\u001b[0mclass_names\u001b[0m\u001b[1;33m=\u001b[0m\u001b[0my\u001b[0m\u001b[1;33m)\u001b[0m\u001b[1;33m\u001b[0m\u001b[1;33m\u001b[0m\u001b[0m\n\u001b[0m\u001b[0;32m      3\u001b[0m \u001b[1;33m\u001b[0m\u001b[0m\n\u001b[0;32m      4\u001b[0m \u001b[1;31m# Draw graph\u001b[0m\u001b[1;33m\u001b[0m\u001b[1;33m\u001b[0m\u001b[0m\n\u001b[0;32m      5\u001b[0m \u001b[0mgraph\u001b[0m\u001b[1;33m=\u001b[0m\u001b[0mpydotplus\u001b[0m\u001b[1;33m.\u001b[0m\u001b[0mgraph_from_dot_data\u001b[0m\u001b[1;33m(\u001b[0m\u001b[0mdot_data\u001b[0m\u001b[1;33m)\u001b[0m\u001b[1;33m\u001b[0m\u001b[1;33m\u001b[0m\u001b[0m\n",
      "\u001b[1;32m~\\anaconda3\\lib\\site-packages\\sklearn\\utils\\validation.py\u001b[0m in \u001b[0;36minner_f\u001b[1;34m(*args, **kwargs)\u001b[0m\n\u001b[0;32m     61\u001b[0m             \u001b[0mextra_args\u001b[0m \u001b[1;33m=\u001b[0m \u001b[0mlen\u001b[0m\u001b[1;33m(\u001b[0m\u001b[0margs\u001b[0m\u001b[1;33m)\u001b[0m \u001b[1;33m-\u001b[0m \u001b[0mlen\u001b[0m\u001b[1;33m(\u001b[0m\u001b[0mall_args\u001b[0m\u001b[1;33m)\u001b[0m\u001b[1;33m\u001b[0m\u001b[1;33m\u001b[0m\u001b[0m\n\u001b[0;32m     62\u001b[0m             \u001b[1;32mif\u001b[0m \u001b[0mextra_args\u001b[0m \u001b[1;33m<=\u001b[0m \u001b[1;36m0\u001b[0m\u001b[1;33m:\u001b[0m\u001b[1;33m\u001b[0m\u001b[1;33m\u001b[0m\u001b[0m\n\u001b[1;32m---> 63\u001b[1;33m                 \u001b[1;32mreturn\u001b[0m \u001b[0mf\u001b[0m\u001b[1;33m(\u001b[0m\u001b[1;33m*\u001b[0m\u001b[0margs\u001b[0m\u001b[1;33m,\u001b[0m \u001b[1;33m**\u001b[0m\u001b[0mkwargs\u001b[0m\u001b[1;33m)\u001b[0m\u001b[1;33m\u001b[0m\u001b[1;33m\u001b[0m\u001b[0m\n\u001b[0m\u001b[0;32m     64\u001b[0m \u001b[1;33m\u001b[0m\u001b[0m\n\u001b[0;32m     65\u001b[0m             \u001b[1;31m# extra_args > 0\u001b[0m\u001b[1;33m\u001b[0m\u001b[1;33m\u001b[0m\u001b[0m\n",
      "\u001b[1;32m~\\anaconda3\\lib\\site-packages\\sklearn\\tree\\_export.py\u001b[0m in \u001b[0;36mexport_graphviz\u001b[1;34m(decision_tree, out_file, max_depth, feature_names, class_names, label, filled, leaves_parallel, impurity, node_ids, proportion, rotate, rounded, special_characters, precision)\u001b[0m\n\u001b[0;32m    786\u001b[0m             \u001b[0mrounded\u001b[0m\u001b[1;33m=\u001b[0m\u001b[0mrounded\u001b[0m\u001b[1;33m,\u001b[0m \u001b[0mspecial_characters\u001b[0m\u001b[1;33m=\u001b[0m\u001b[0mspecial_characters\u001b[0m\u001b[1;33m,\u001b[0m\u001b[1;33m\u001b[0m\u001b[1;33m\u001b[0m\u001b[0m\n\u001b[0;32m    787\u001b[0m             precision=precision)\n\u001b[1;32m--> 788\u001b[1;33m         \u001b[0mexporter\u001b[0m\u001b[1;33m.\u001b[0m\u001b[0mexport\u001b[0m\u001b[1;33m(\u001b[0m\u001b[0mdecision_tree\u001b[0m\u001b[1;33m)\u001b[0m\u001b[1;33m\u001b[0m\u001b[1;33m\u001b[0m\u001b[0m\n\u001b[0m\u001b[0;32m    789\u001b[0m \u001b[1;33m\u001b[0m\u001b[0m\n\u001b[0;32m    790\u001b[0m         \u001b[1;32mif\u001b[0m \u001b[0mreturn_string\u001b[0m\u001b[1;33m:\u001b[0m\u001b[1;33m\u001b[0m\u001b[1;33m\u001b[0m\u001b[0m\n",
      "\u001b[1;32m~\\anaconda3\\lib\\site-packages\\sklearn\\tree\\_export.py\u001b[0m in \u001b[0;36mexport\u001b[1;34m(self, decision_tree)\u001b[0m\n\u001b[0;32m    422\u001b[0m             \u001b[0mself\u001b[0m\u001b[1;33m.\u001b[0m\u001b[0mrecurse\u001b[0m\u001b[1;33m(\u001b[0m\u001b[0mdecision_tree\u001b[0m\u001b[1;33m,\u001b[0m \u001b[1;36m0\u001b[0m\u001b[1;33m,\u001b[0m \u001b[0mcriterion\u001b[0m\u001b[1;33m=\u001b[0m\u001b[1;34m\"impurity\"\u001b[0m\u001b[1;33m)\u001b[0m\u001b[1;33m\u001b[0m\u001b[1;33m\u001b[0m\u001b[0m\n\u001b[0;32m    423\u001b[0m         \u001b[1;32melse\u001b[0m\u001b[1;33m:\u001b[0m\u001b[1;33m\u001b[0m\u001b[1;33m\u001b[0m\u001b[0m\n\u001b[1;32m--> 424\u001b[1;33m             self.recurse(decision_tree.tree_, 0,\n\u001b[0m\u001b[0;32m    425\u001b[0m                          criterion=decision_tree.criterion)\n\u001b[0;32m    426\u001b[0m \u001b[1;33m\u001b[0m\u001b[0m\n",
      "\u001b[1;32m~\\anaconda3\\lib\\site-packages\\sklearn\\tree\\_export.py\u001b[0m in \u001b[0;36mrecurse\u001b[1;34m(self, tree, node_id, criterion, parent, depth)\u001b[0m\n\u001b[0;32m    482\u001b[0m \u001b[1;33m\u001b[0m\u001b[0m\n\u001b[0;32m    483\u001b[0m             self.out_file.write(\n\u001b[1;32m--> 484\u001b[1;33m                 '%d [label=%s' % (node_id, self.node_to_str(tree, node_id,\n\u001b[0m\u001b[0;32m    485\u001b[0m                                                             criterion)))\n\u001b[0;32m    486\u001b[0m \u001b[1;33m\u001b[0m\u001b[0m\n",
      "\u001b[1;32m~\\anaconda3\\lib\\site-packages\\sklearn\\tree\\_export.py\u001b[0m in \u001b[0;36mnode_to_str\u001b[1;34m(self, tree, node_id, criterion)\u001b[0m\n\u001b[0;32m    358\u001b[0m                                           \u001b[0mnp\u001b[0m\u001b[1;33m.\u001b[0m\u001b[0margmax\u001b[0m\u001b[1;33m(\u001b[0m\u001b[0mvalue\u001b[0m\u001b[1;33m)\u001b[0m\u001b[1;33m,\u001b[0m\u001b[1;33m\u001b[0m\u001b[1;33m\u001b[0m\u001b[0m\n\u001b[0;32m    359\u001b[0m                                           characters[2])\n\u001b[1;32m--> 360\u001b[1;33m             \u001b[0mnode_string\u001b[0m \u001b[1;33m+=\u001b[0m \u001b[0mclass_name\u001b[0m\u001b[1;33m\u001b[0m\u001b[1;33m\u001b[0m\u001b[0m\n\u001b[0m\u001b[0;32m    361\u001b[0m \u001b[1;33m\u001b[0m\u001b[0m\n\u001b[0;32m    362\u001b[0m         \u001b[1;31m# Clean up any trailing newlines\u001b[0m\u001b[1;33m\u001b[0m\u001b[1;33m\u001b[0m\u001b[0m\n",
      "\u001b[1;31mTypeError\u001b[0m: can only concatenate str (not \"numpy.int64\") to str"
     ]
    }
   ],
   "source": [
    "# Create DOT data\n",
    "dot_data=tree.export_graphviz(dt,out_file=None,feature_names=Predictors,class_names=y)\n",
    "\n",
    "# Draw graph\n",
    "graph=pydotplus.graph_from_dot_data(dot_data)\n",
    "\n",
    "#Show graph\n",
    "Image(graph.create_png(),width=7000,height=7000)"
   ]
  },
  {
   "cell_type": "code",
   "execution_count": null,
   "id": "3396a47c",
   "metadata": {},
   "outputs": [],
   "source": []
  }
 ],
 "metadata": {
  "kernelspec": {
   "display_name": "Python 3 (ipykernel)",
   "language": "python",
   "name": "python3"
  },
  "language_info": {
   "codemirror_mode": {
    "name": "ipython",
    "version": 3
   },
   "file_extension": ".py",
   "mimetype": "text/x-python",
   "name": "python",
   "nbconvert_exporter": "python",
   "pygments_lexer": "ipython3",
   "version": "3.9.7"
  }
 },
 "nbformat": 4,
 "nbformat_minor": 5
}
